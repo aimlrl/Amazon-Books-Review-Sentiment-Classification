{
  "nbformat": 4,
  "nbformat_minor": 0,
  "metadata": {
    "colab": {
      "provenance": []
    },
    "kernelspec": {
      "name": "python3",
      "display_name": "Python 3"
    },
    "language_info": {
      "name": "python"
    }
  },
  "cells": [
    {
      "cell_type": "code",
      "source": [
        "%cp /content/drive/MyDrive/Books.json.gz /content"
      ],
      "metadata": {
        "id": "azYL2LhRo6xG"
      },
      "execution_count": null,
      "outputs": []
    },
    {
      "cell_type": "code",
      "source": [
        "%cd /content"
      ],
      "metadata": {
        "colab": {
          "base_uri": "https://localhost:8080/"
        },
        "id": "35yebnBnrcvt",
        "outputId": "5a75b411-b6c1-4fb7-e93c-4dea837355bc"
      },
      "execution_count": null,
      "outputs": [
        {
          "output_type": "stream",
          "name": "stdout",
          "text": [
            "/content\n"
          ]
        }
      ]
    },
    {
      "cell_type": "code",
      "source": [
        "!gunzip /content/Books.json.gz"
      ],
      "metadata": {
        "id": "YWcwIghrpUtz"
      },
      "execution_count": null,
      "outputs": []
    },
    {
      "cell_type": "code",
      "source": [
        "!pip install pyspark py4j"
      ],
      "metadata": {
        "colab": {
          "base_uri": "https://localhost:8080/"
        },
        "id": "Gjb-BXWeqmAy",
        "outputId": "96ee318c-e1ad-4558-922b-42cbc0a4e118"
      },
      "execution_count": null,
      "outputs": [
        {
          "output_type": "stream",
          "name": "stdout",
          "text": [
            "Looking in indexes: https://pypi.org/simple, https://us-python.pkg.dev/colab-wheels/public/simple/\n",
            "Collecting pyspark\n",
            "  Downloading pyspark-3.3.2.tar.gz (281.4 MB)\n",
            "\u001b[2K     \u001b[90m━━━━━━━━━━━━━━━━━━━━━━━━━━━━━━━━━━━━━━━\u001b[0m \u001b[32m281.4/281.4 MB\u001b[0m \u001b[31m4.9 MB/s\u001b[0m eta \u001b[36m0:00:00\u001b[0m\n",
            "\u001b[?25h  Preparing metadata (setup.py) ... \u001b[?25l\u001b[?25hdone\n",
            "Collecting py4j\n",
            "  Downloading py4j-0.10.9.7-py2.py3-none-any.whl (200 kB)\n",
            "\u001b[2K     \u001b[90m━━━━━━━━━━━━━━━━━━━━━━━━━━━━━━━━━━━━━━\u001b[0m \u001b[32m200.5/200.5 KB\u001b[0m \u001b[31m23.7 MB/s\u001b[0m eta \u001b[36m0:00:00\u001b[0m\n",
            "\u001b[?25h  Downloading py4j-0.10.9.5-py2.py3-none-any.whl (199 kB)\n",
            "\u001b[2K     \u001b[90m━━━━━━━━━━━━━━━━━━━━━━━━━━━━━━━━━━━━━━\u001b[0m \u001b[32m199.7/199.7 KB\u001b[0m \u001b[31m23.3 MB/s\u001b[0m eta \u001b[36m0:00:00\u001b[0m\n",
            "\u001b[?25hBuilding wheels for collected packages: pyspark\n",
            "  Building wheel for pyspark (setup.py) ... \u001b[?25l\u001b[?25hdone\n",
            "  Created wheel for pyspark: filename=pyspark-3.3.2-py2.py3-none-any.whl size=281824025 sha256=9190ad7c9ac6ad203b64b822884a3c79f8b5772ccb2ef1386402d2436bf02ce8\n",
            "  Stored in directory: /root/.cache/pip/wheels/b1/59/a0/a1a0624b5e865fd389919c1a10f53aec9b12195d6747710baf\n",
            "Successfully built pyspark\n",
            "Installing collected packages: py4j, pyspark\n",
            "Successfully installed py4j-0.10.9.5 pyspark-3.3.2\n"
          ]
        }
      ]
    },
    {
      "cell_type": "code",
      "source": [
        "from pyspark.sql import SparkSession"
      ],
      "metadata": {
        "id": "A0-lsWAEugTm"
      },
      "execution_count": null,
      "outputs": []
    },
    {
      "cell_type": "code",
      "source": [
        "spark = SparkSession.builder.appName(\"Big-Data-Multiclass-Classification\").getOrCreate()"
      ],
      "metadata": {
        "id": "-LtXPJnRu5fF"
      },
      "execution_count": null,
      "outputs": []
    },
    {
      "cell_type": "code",
      "source": [
        "df = spark.read.json(\"/content/Books.json\")"
      ],
      "metadata": {
        "id": "87lM8eNDvSiI"
      },
      "execution_count": null,
      "outputs": []
    },
    {
      "cell_type": "code",
      "source": [
        "df"
      ],
      "metadata": {
        "colab": {
          "base_uri": "https://localhost:8080/"
        },
        "id": "rjE_GlEiv_0E",
        "outputId": "859d57fd-2543-4357-cd47-4df7d8ef425a"
      },
      "execution_count": null,
      "outputs": [
        {
          "output_type": "execute_result",
          "data": {
            "text/plain": [
              "DataFrame[asin: string, image: array<string>, overall: double, reviewText: string, reviewTime: string, reviewerID: string, reviewerName: string, style: struct<Color::string,Format::string,Package Quantity::string,Size::string,Style Name::string,Style::string>, summary: string, unixReviewTime: bigint, verified: boolean, vote: string]"
            ]
          },
          "metadata": {},
          "execution_count": 8
        }
      ]
    },
    {
      "cell_type": "code",
      "source": [
        "df.printSchema()"
      ],
      "metadata": {
        "colab": {
          "base_uri": "https://localhost:8080/"
        },
        "id": "z7cegCneyi-O",
        "outputId": "79fbf4c0-295c-4ce1-af14-7bdb18f8434a"
      },
      "execution_count": null,
      "outputs": [
        {
          "output_type": "stream",
          "name": "stdout",
          "text": [
            "root\n",
            " |-- asin: string (nullable = true)\n",
            " |-- image: array (nullable = true)\n",
            " |    |-- element: string (containsNull = true)\n",
            " |-- overall: double (nullable = true)\n",
            " |-- reviewText: string (nullable = true)\n",
            " |-- reviewTime: string (nullable = true)\n",
            " |-- reviewerID: string (nullable = true)\n",
            " |-- reviewerName: string (nullable = true)\n",
            " |-- style: struct (nullable = true)\n",
            " |    |-- Color:: string (nullable = true)\n",
            " |    |-- Format:: string (nullable = true)\n",
            " |    |-- Package Quantity:: string (nullable = true)\n",
            " |    |-- Size:: string (nullable = true)\n",
            " |    |-- Style Name:: string (nullable = true)\n",
            " |    |-- Style:: string (nullable = true)\n",
            " |-- summary: string (nullable = true)\n",
            " |-- unixReviewTime: long (nullable = true)\n",
            " |-- verified: boolean (nullable = true)\n",
            " |-- vote: string (nullable = true)\n",
            "\n"
          ]
        }
      ]
    },
    {
      "cell_type": "code",
      "source": [
        "df.dtypes"
      ],
      "metadata": {
        "colab": {
          "base_uri": "https://localhost:8080/"
        },
        "id": "nOmUaH05y_rt",
        "outputId": "e3445040-83d6-4237-f9d7-e9eaa769fc12"
      },
      "execution_count": null,
      "outputs": [
        {
          "output_type": "execute_result",
          "data": {
            "text/plain": [
              "[('asin', 'string'),\n",
              " ('image', 'array<string>'),\n",
              " ('overall', 'double'),\n",
              " ('reviewText', 'string'),\n",
              " ('reviewTime', 'string'),\n",
              " ('reviewerID', 'string'),\n",
              " ('reviewerName', 'string'),\n",
              " ('style',\n",
              "  'struct<Color::string,Format::string,Package Quantity::string,Size::string,Style Name::string,Style::string>'),\n",
              " ('summary', 'string'),\n",
              " ('unixReviewTime', 'bigint'),\n",
              " ('verified', 'boolean'),\n",
              " ('vote', 'string')]"
            ]
          },
          "metadata": {},
          "execution_count": 10
        }
      ]
    },
    {
      "cell_type": "code",
      "source": [
        "df.schema"
      ],
      "metadata": {
        "colab": {
          "base_uri": "https://localhost:8080/"
        },
        "id": "BECQPgbf1R9Q",
        "outputId": "be08a4be-ea12-4060-b3ce-1c6b9718cf49"
      },
      "execution_count": null,
      "outputs": [
        {
          "output_type": "execute_result",
          "data": {
            "text/plain": [
              "StructType([StructField('asin', StringType(), True), StructField('image', ArrayType(StringType(), True), True), StructField('overall', DoubleType(), True), StructField('reviewText', StringType(), True), StructField('reviewTime', StringType(), True), StructField('reviewerID', StringType(), True), StructField('reviewerName', StringType(), True), StructField('style', StructType([StructField('Color:', StringType(), True), StructField('Format:', StringType(), True), StructField('Package Quantity:', StringType(), True), StructField('Size:', StringType(), True), StructField('Style Name:', StringType(), True), StructField('Style:', StringType(), True)]), True), StructField('summary', StringType(), True), StructField('unixReviewTime', LongType(), True), StructField('verified', BooleanType(), True), StructField('vote', StringType(), True)])"
            ]
          },
          "metadata": {},
          "execution_count": 11
        }
      ]
    },
    {
      "cell_type": "code",
      "source": [
        "df.show()"
      ],
      "metadata": {
        "colab": {
          "base_uri": "https://localhost:8080/"
        },
        "id": "4y6DVlrE1hjo",
        "outputId": "304db444-f5ec-4738-c55a-8d959fde9ed6"
      },
      "execution_count": null,
      "outputs": [
        {
          "output_type": "stream",
          "name": "stdout",
          "text": [
            "+----------+-----+-------+--------------------+-----------+--------------+--------------------+--------------------+--------------------+--------------+--------+----+\n",
            "|      asin|image|overall|          reviewText| reviewTime|    reviewerID|        reviewerName|               style|             summary|unixReviewTime|verified|vote|\n",
            "+----------+-----+-------+--------------------+-----------+--------------+--------------------+--------------------+--------------------+--------------+--------+----+\n",
            "|0001713353| null|    5.0|This book is a wi...|08 12, 2005|A1C6M8LCIX4M6M|            June Bug|{null,  Paperback...| Children's favorite|    1123804800|   false|null|\n",
            "|0001713353| null|    5.0|The King, the Mic...|03 30, 2005|A1REUF3A1YCPHM|         TW Ervin II|{null,  Hardcover...|A story children ...|    1112140800|   false|null|\n",
            "|0001713353| null|    5.0|My daughter got h...| 04 4, 2004| A1YRBRK2XM5D5|   Rebecca L. Menner|{null,  Hardcover...|          Third copy|    1081036800|   false|   5|\n",
            "|0001713353| null|    5.0|I remember this b...|02 21, 2004|A1V8ZR5P78P4ZU|         Mindy Stone|{null,  Hardcover...|Graphically Wonde...|    1077321600|   false|null|\n",
            "|0001713353| null|    5.0|Just as I remembe...| 10 3, 2016|A2ZB06582NXCIV|          B. Deniger|                null|Great condition, ...|    1475452800|    true|null|\n",
            "|0001713353| null|    5.0|It is a very cute...|07 29, 2016| ACPQVNRD3Z09X|       Terri Dickson|{null,  Hardcover...|          Five Stars|    1469750400|    true|null|\n",
            "|0001713353| null|    5.0|  The kids loved it!|06 20, 2016| AVP0HXC9FG790|     Amazon Customer|                null|          Five Stars|    1466380800|    true|null|\n",
            "|0001713353| null|    5.0|I was just so hap...|04 24, 2016|A32MQTLQQN44WW|        jackie hogan|{null,  Paperback...|Got a special par...|    1461456000|    true|null|\n",
            "|0001713353| null|    5.0|      good comdition|02 14, 2016|A13CHIJPFCEP2M|   Janice Cunningham|{null,  Hardcover...|          Five Stars|    1455408000|    true|null|\n",
            "|0001713353| null|    5.0|My students (3 & ...|01 24, 2016|A324TTUBKTN73A|        Tekla Borner|{null,  Paperback...|          Five Stars|    1453593600|    true|null|\n",
            "|0001713353| null|    5.0|A thought-provoki...|11 12, 2015| ADLBKEDYXKXCH|                LouS|{null,  Paperback...|          Five Stars|    1447286400|    true|null|\n",
            "|0001713353| null|    5.0|My favorite book ...|07 21, 2015|A3MVI1KIZQA9XB|           Charlie C|{null,  Hardcover...|My favorite book ...|    1437436800|    true|null|\n",
            "|0001713353| null|    5.0|             LOVE IT| 07 9, 2015|A2RE7WG349NV5D|Deborah K Woroniecki|{null,  Paperback...|          Five Stars|    1436400000|   false|null|\n",
            "|0001713353| null|    4.0|Great story. I lo...|06 23, 2015|A2GSWEYW6Y4OIY|       Gary Phillips|{null,  Hardcover...|Great story. I lo...|    1435017600|    true|null|\n",
            "|0001713353| null|    5.0|This is a cute st...|05 21, 2015| AX8YZYILXC7LT|                  KM|{null,  Hardcover...|This is a cute st...|    1432166400|    true|null|\n",
            "|0001713353| null|    5.0|            Perfect!| 02 9, 2015| ABZ2UEQ2JRYJ9|         Doug Ruhman|                null|          Five Stars|    1423440000|    true|null|\n",
            "|0001713353| null|    5.0|              Great!|01 18, 2015|A32B7QIUDQCD0E|                   E|                null|          Five Stars|    1421539200|    true|null|\n",
            "|0001713353| null|    5.0|This was my 51 ye...|09 22, 2014|A25PQPZXU63223|          pat brooks|                null|This was my 51 ye...|    1411344000|    true|null|\n",
            "|0001713353| null|    5.0|  Great vintage book|09 13, 2014| AUZXLPH8BN28C|              sharon|{null,  Hardcover...|A must have dr Se...|    1410566400|    true|null|\n",
            "|0001713353| null|    5.0|One of my favorit...| 07 2, 2014|A2VXMOSOTK0W70|       Kevin Northup|                null|      A true classic|    1404259200|    true|null|\n",
            "+----------+-----+-------+--------------------+-----------+--------------+--------------------+--------------------+--------------------+--------------+--------+----+\n",
            "only showing top 20 rows\n",
            "\n"
          ]
        }
      ]
    },
    {
      "cell_type": "code",
      "source": [
        "df.select(df.reviewText).show(truncate=121)"
      ],
      "metadata": {
        "colab": {
          "base_uri": "https://localhost:8080/"
        },
        "id": "isASR9NV6fca",
        "outputId": "70d380dc-275c-47ec-b203-eb3f035ecb6d"
      },
      "execution_count": null,
      "outputs": [
        {
          "output_type": "stream",
          "name": "stdout",
          "text": [
            "+-------------------------------------------------------------------------------------------------------------------------+\n",
            "|                                                                                                               reviewText|\n",
            "+-------------------------------------------------------------------------------------------------------------------------+\n",
            "|              This book is a winner with both of my boys.  They really enjoy the pictures and the story.  It's a classic.|\n",
            "|The King, the Mice and the Cheese by Nancy Gurney is an excellent children's book.  It is one that I well remember fro...|\n",
            "|My daughter got her first copy from her great-grandmother (it had been my father's when he was a child). She loves it ...|\n",
            "|I remember this book from when I was a child about 30 years ago and what I most remember was how wonderful the express...|\n",
            "|Just as I remembered it, one of my favorites from childhood! Great condition, very happy to have this to share with my...|\n",
            "|                                    It is a very cute book with great illustrations,with an enjoyable story for children.|\n",
            "|                                                                                                       The kids loved it!|\n",
            "|                                                           I was just so hapoy to have found it, thank you for offering !|\n",
            "|                                                                                                           good comdition|\n",
            "|                               My students (3 & 4 year olds) loved this book!  Definitely recommend it to other teachers.|\n",
            "|A thought-provoking fable about unintended consequences.  To get rid of mice, you bring in cats.  But then how do you ...|\n",
            "|My favorite book as a child. My daughter's favorite book also. She was 8. Great moral and awesome illustration. I read...|\n",
            "|                                                                                                                  LOVE IT|\n",
            "|Great story. I loved it as a kid and now can read it to my grandkids. A little overpriced but I could not find it anyw...|\n",
            "|This is a cute story my children used to love. Now my grandson will get a chance to read it as well.  The book has bee...|\n",
            "|                                                                                                                 Perfect!|\n",
            "|                                                                                                                   Great!|\n",
            "|                       This was my 51 year old daughters book, got this one as part of her birthday. She will be thrilled|\n",
            "|                                                                                                       Great vintage book|\n",
            "|One of my favorite books ever! So glad I found it for my grandson. But I was surprised and didn't understand why it wa...|\n",
            "+-------------------------------------------------------------------------------------------------------------------------+\n",
            "only showing top 20 rows\n",
            "\n"
          ]
        }
      ]
    },
    {
      "cell_type": "code",
      "source": [
        "df.select(df[\"overall\"]).show()"
      ],
      "metadata": {
        "colab": {
          "base_uri": "https://localhost:8080/"
        },
        "id": "Z--HLsId9ovT",
        "outputId": "2dc1a307-6b27-4e5f-dd4a-426c17c6cda5"
      },
      "execution_count": null,
      "outputs": [
        {
          "output_type": "stream",
          "name": "stdout",
          "text": [
            "+-------+\n",
            "|overall|\n",
            "+-------+\n",
            "|    5.0|\n",
            "|    5.0|\n",
            "|    5.0|\n",
            "|    5.0|\n",
            "|    5.0|\n",
            "|    5.0|\n",
            "|    5.0|\n",
            "|    5.0|\n",
            "|    5.0|\n",
            "|    5.0|\n",
            "|    5.0|\n",
            "|    5.0|\n",
            "|    5.0|\n",
            "|    4.0|\n",
            "|    5.0|\n",
            "|    5.0|\n",
            "|    5.0|\n",
            "|    5.0|\n",
            "|    5.0|\n",
            "|    5.0|\n",
            "+-------+\n",
            "only showing top 20 rows\n",
            "\n"
          ]
        }
      ]
    },
    {
      "cell_type": "code",
      "source": [
        "from pyspark.sql.functions import col"
      ],
      "metadata": {
        "id": "XDBC0wFv-qNm"
      },
      "execution_count": null,
      "outputs": []
    },
    {
      "cell_type": "code",
      "source": [
        "df.select(col(\"summary\")).show(truncate=200)"
      ],
      "metadata": {
        "colab": {
          "base_uri": "https://localhost:8080/"
        },
        "id": "6--eAUca-OPo",
        "outputId": "0ed090f6-0b8d-49c9-cae6-a4a563b1b359"
      },
      "execution_count": null,
      "outputs": [
        {
          "output_type": "stream",
          "name": "stdout",
          "text": [
            "+---------------------------------------------------------------------------------------+\n",
            "|                                                                                summary|\n",
            "+---------------------------------------------------------------------------------------+\n",
            "|                                                                    Children's favorite|\n",
            "|                                              A story children will love and learn from|\n",
            "|                                                                             Third copy|\n",
            "|                                                                 Graphically Wonderful!|\n",
            "|                                  Great condition, very happy to have this to share ...|\n",
            "|                                                                             Five Stars|\n",
            "|                                                                             Five Stars|\n",
            "|           Got a special part of my childhood back aand a sharing it with my Grandkids!|\n",
            "|                                                                             Five Stars|\n",
            "|                                                                             Five Stars|\n",
            "|                                                                             Five Stars|\n",
            "|                                                            My favorite book as a child|\n",
            "|                                                                             Five Stars|\n",
            "|                                               Great story. I loved it as a kid and ...|\n",
            "|This is a cute story my children used to love. Now my grandson will get a chance to ...|\n",
            "|                                                                             Five Stars|\n",
            "|                                                                             Five Stars|\n",
            "|                                        This was my 51 year old daughters book, got ...|\n",
            "|                                                              A must have dr Seuss book|\n",
            "|                                                                         A true classic|\n",
            "+---------------------------------------------------------------------------------------+\n",
            "only showing top 20 rows\n",
            "\n"
          ]
        }
      ]
    },
    {
      "cell_type": "code",
      "source": [
        "df.select(\"summary\").show(truncate=200)"
      ],
      "metadata": {
        "colab": {
          "base_uri": "https://localhost:8080/"
        },
        "id": "1qGilFyz-zrN",
        "outputId": "d50c108b-b97e-4cff-c17e-109c77f6a17b"
      },
      "execution_count": null,
      "outputs": [
        {
          "output_type": "stream",
          "name": "stdout",
          "text": [
            "+---------------------------------------------------------------------------------------+\n",
            "|                                                                                summary|\n",
            "+---------------------------------------------------------------------------------------+\n",
            "|                                                                    Children's favorite|\n",
            "|                                              A story children will love and learn from|\n",
            "|                                                                             Third copy|\n",
            "|                                                                 Graphically Wonderful!|\n",
            "|                                  Great condition, very happy to have this to share ...|\n",
            "|                                                                             Five Stars|\n",
            "|                                                                             Five Stars|\n",
            "|           Got a special part of my childhood back aand a sharing it with my Grandkids!|\n",
            "|                                                                             Five Stars|\n",
            "|                                                                             Five Stars|\n",
            "|                                                                             Five Stars|\n",
            "|                                                            My favorite book as a child|\n",
            "|                                                                             Five Stars|\n",
            "|                                               Great story. I loved it as a kid and ...|\n",
            "|This is a cute story my children used to love. Now my grandson will get a chance to ...|\n",
            "|                                                                             Five Stars|\n",
            "|                                                                             Five Stars|\n",
            "|                                        This was my 51 year old daughters book, got ...|\n",
            "|                                                              A must have dr Seuss book|\n",
            "|                                                                         A true classic|\n",
            "+---------------------------------------------------------------------------------------+\n",
            "only showing top 20 rows\n",
            "\n"
          ]
        }
      ]
    },
    {
      "cell_type": "code",
      "source": [
        "from pyspark.sql.functions import split"
      ],
      "metadata": {
        "id": "R6TlqWKR_Owj"
      },
      "execution_count": null,
      "outputs": []
    },
    {
      "cell_type": "code",
      "source": [
        "df.select(split(df.reviewText,\" \")).show(truncate=121)"
      ],
      "metadata": {
        "colab": {
          "base_uri": "https://localhost:8080/"
        },
        "id": "oB2o36C0_l0P",
        "outputId": "3da5ac1f-bec0-4bd8-fb40-75181c1b26ca"
      },
      "execution_count": null,
      "outputs": [
        {
          "output_type": "stream",
          "name": "stdout",
          "text": [
            "+-------------------------------------------------------------------------------------------------------------------------+\n",
            "|                                                                                                 split(reviewText,  , -1)|\n",
            "+-------------------------------------------------------------------------------------------------------------------------+\n",
            "|[This, book, is, a, winner, with, both, of, my, boys., , They, really, enjoy, the, pictures, and, the, story., , It's,...|\n",
            "|[The, King,, the, Mice, and, the, Cheese, by, Nancy, Gurney, is, an, excellent, children's, book., , It, is, one, that...|\n",
            "|[My, daughter, got, her, first, copy, from, her, great-grandmother, (it, had, been, my, father's, when, he, was, a, ch...|\n",
            "|[I, remember, this, book, from, when, I, was, a, child, about, 30, years, ago, and, what, I, most, remember, was, how,...|\n",
            "|[Just, as, I, remembered, it,, one, of, my, favorites, from, childhood!, Great, condition,, very, happy, to, have, thi...|\n",
            "|                     [It, is, a, very, cute, book, with, great, illustrations,with, an, enjoyable, story, for, children.]|\n",
            "|                                                                                                  [The, kids, loved, it!]|\n",
            "|                                            [I, was, just, so, hapoy, to, have, found, it,, thank, you, for, offering, !]|\n",
            "|                                                                                                        [good, comdition]|\n",
            "|             [My, students, (3, &, 4, year, olds), loved, this, book!, , Definitely, recommend, it, to, other, teachers.]|\n",
            "|[A, thought-provoking, fable, about, unintended, consequences., , To, get, rid, of, mice,, you, bring, in, cats., , Bu...|\n",
            "|[My, favorite, book, as, a, child., My, daughter's, favorite, book, also., She, was, 8., Great, moral, and, awesome, i...|\n",
            "|                                                                                                               [LOVE, IT]|\n",
            "|[Great, story., I, loved, it, as, a, kid, and, now, can, read, it, to, my, grandkids., A, little, overpriced, but, I, ...|\n",
            "|[This, is, a, cute, story, my, children, used, to, love., Now, my, grandson, will, get, a, chance, to, read, it, as, w...|\n",
            "|                                                                                                               [Perfect!]|\n",
            "|                                                                                                                 [Great!]|\n",
            "|  [This, was, my, 51, year, old, daughters, book,, got, this, one, as, part, of, her, birthday., She, will, be, thrilled]|\n",
            "|                                                                                                   [Great, vintage, book]|\n",
            "|[One, of, my, favorite, books, ever!, So, glad, I, found, it, for, my, grandson., But, I, was, surprised, and, didn't,...|\n",
            "+-------------------------------------------------------------------------------------------------------------------------+\n",
            "only showing top 20 rows\n",
            "\n"
          ]
        }
      ]
    },
    {
      "cell_type": "code",
      "source": [
        "df.select(split(df.reviewText,\" \",-1).alias(\"Tokenized Text\")).show(truncate=121)"
      ],
      "metadata": {
        "colab": {
          "base_uri": "https://localhost:8080/"
        },
        "id": "A_SnEXodV5RA",
        "outputId": "981339f9-68ed-458e-85be-58da31ae9ba9"
      },
      "execution_count": null,
      "outputs": [
        {
          "output_type": "stream",
          "name": "stdout",
          "text": [
            "+-------------------------------------------------------------------------------------------------------------------------+\n",
            "|                                                                                                           Tokenized Text|\n",
            "+-------------------------------------------------------------------------------------------------------------------------+\n",
            "|[This, book, is, a, winner, with, both, of, my, boys., , They, really, enjoy, the, pictures, and, the, story., , It's,...|\n",
            "|[The, King,, the, Mice, and, the, Cheese, by, Nancy, Gurney, is, an, excellent, children's, book., , It, is, one, that...|\n",
            "|[My, daughter, got, her, first, copy, from, her, great-grandmother, (it, had, been, my, father's, when, he, was, a, ch...|\n",
            "|[I, remember, this, book, from, when, I, was, a, child, about, 30, years, ago, and, what, I, most, remember, was, how,...|\n",
            "|[Just, as, I, remembered, it,, one, of, my, favorites, from, childhood!, Great, condition,, very, happy, to, have, thi...|\n",
            "|                     [It, is, a, very, cute, book, with, great, illustrations,with, an, enjoyable, story, for, children.]|\n",
            "|                                                                                                  [The, kids, loved, it!]|\n",
            "|                                            [I, was, just, so, hapoy, to, have, found, it,, thank, you, for, offering, !]|\n",
            "|                                                                                                        [good, comdition]|\n",
            "|             [My, students, (3, &, 4, year, olds), loved, this, book!, , Definitely, recommend, it, to, other, teachers.]|\n",
            "|[A, thought-provoking, fable, about, unintended, consequences., , To, get, rid, of, mice,, you, bring, in, cats., , Bu...|\n",
            "|[My, favorite, book, as, a, child., My, daughter's, favorite, book, also., She, was, 8., Great, moral, and, awesome, i...|\n",
            "|                                                                                                               [LOVE, IT]|\n",
            "|[Great, story., I, loved, it, as, a, kid, and, now, can, read, it, to, my, grandkids., A, little, overpriced, but, I, ...|\n",
            "|[This, is, a, cute, story, my, children, used, to, love., Now, my, grandson, will, get, a, chance, to, read, it, as, w...|\n",
            "|                                                                                                               [Perfect!]|\n",
            "|                                                                                                                 [Great!]|\n",
            "|  [This, was, my, 51, year, old, daughters, book,, got, this, one, as, part, of, her, birthday., She, will, be, thrilled]|\n",
            "|                                                                                                   [Great, vintage, book]|\n",
            "|[One, of, my, favorite, books, ever!, So, glad, I, found, it, for, my, grandson., But, I, was, surprised, and, didn't,...|\n",
            "+-------------------------------------------------------------------------------------------------------------------------+\n",
            "only showing top 20 rows\n",
            "\n"
          ]
        }
      ]
    },
    {
      "cell_type": "code",
      "source": [
        "tokenized_text = df.select(split(df.reviewText,\" \",-1))\n",
        "tokenized_text = tokenized_text.withColumnRenamed(\"split(reviewText,  , -1)\",\"Tokenized Text\")"
      ],
      "metadata": {
        "id": "wRKn8n86WgcI"
      },
      "execution_count": null,
      "outputs": []
    },
    {
      "cell_type": "code",
      "source": [
        "tokenized_text.show(truncate=121)"
      ],
      "metadata": {
        "colab": {
          "base_uri": "https://localhost:8080/"
        },
        "id": "RFfbbaCfXtdW",
        "outputId": "d6722cd4-1929-4712-9b8f-ef6197819f8d"
      },
      "execution_count": null,
      "outputs": [
        {
          "output_type": "stream",
          "name": "stdout",
          "text": [
            "+-------------------------------------------------------------------------------------------------------------------------+\n",
            "|                                                                                                           Tokenized Text|\n",
            "+-------------------------------------------------------------------------------------------------------------------------+\n",
            "|[This, book, is, a, winner, with, both, of, my, boys., , They, really, enjoy, the, pictures, and, the, story., , It's,...|\n",
            "|[The, King,, the, Mice, and, the, Cheese, by, Nancy, Gurney, is, an, excellent, children's, book., , It, is, one, that...|\n",
            "|[My, daughter, got, her, first, copy, from, her, great-grandmother, (it, had, been, my, father's, when, he, was, a, ch...|\n",
            "|[I, remember, this, book, from, when, I, was, a, child, about, 30, years, ago, and, what, I, most, remember, was, how,...|\n",
            "|[Just, as, I, remembered, it,, one, of, my, favorites, from, childhood!, Great, condition,, very, happy, to, have, thi...|\n",
            "|                     [It, is, a, very, cute, book, with, great, illustrations,with, an, enjoyable, story, for, children.]|\n",
            "|                                                                                                  [The, kids, loved, it!]|\n",
            "|                                            [I, was, just, so, hapoy, to, have, found, it,, thank, you, for, offering, !]|\n",
            "|                                                                                                        [good, comdition]|\n",
            "|             [My, students, (3, &, 4, year, olds), loved, this, book!, , Definitely, recommend, it, to, other, teachers.]|\n",
            "|[A, thought-provoking, fable, about, unintended, consequences., , To, get, rid, of, mice,, you, bring, in, cats., , Bu...|\n",
            "|[My, favorite, book, as, a, child., My, daughter's, favorite, book, also., She, was, 8., Great, moral, and, awesome, i...|\n",
            "|                                                                                                               [LOVE, IT]|\n",
            "|[Great, story., I, loved, it, as, a, kid, and, now, can, read, it, to, my, grandkids., A, little, overpriced, but, I, ...|\n",
            "|[This, is, a, cute, story, my, children, used, to, love., Now, my, grandson, will, get, a, chance, to, read, it, as, w...|\n",
            "|                                                                                                               [Perfect!]|\n",
            "|                                                                                                                 [Great!]|\n",
            "|  [This, was, my, 51, year, old, daughters, book,, got, this, one, as, part, of, her, birthday., She, will, be, thrilled]|\n",
            "|                                                                                                   [Great, vintage, book]|\n",
            "|[One, of, my, favorite, books, ever!, So, glad, I, found, it, for, my, grandson., But, I, was, surprised, and, didn't,...|\n",
            "+-------------------------------------------------------------------------------------------------------------------------+\n",
            "only showing top 20 rows\n",
            "\n"
          ]
        }
      ]
    },
    {
      "cell_type": "code",
      "source": [
        "df.show()"
      ],
      "metadata": {
        "colab": {
          "base_uri": "https://localhost:8080/"
        },
        "id": "1JtXNupfXwx_",
        "outputId": "5a013a7b-7c09-4c55-f002-66c41f81d8c1"
      },
      "execution_count": null,
      "outputs": [
        {
          "output_type": "stream",
          "name": "stdout",
          "text": [
            "+----------+-----+-------+--------------------+-----------+--------------+--------------------+--------------------+--------------------+--------------+--------+----+\n",
            "|      asin|image|overall|          reviewText| reviewTime|    reviewerID|        reviewerName|               style|             summary|unixReviewTime|verified|vote|\n",
            "+----------+-----+-------+--------------------+-----------+--------------+--------------------+--------------------+--------------------+--------------+--------+----+\n",
            "|0001713353| null|    5.0|This book is a wi...|08 12, 2005|A1C6M8LCIX4M6M|            June Bug|{null,  Paperback...| Children's favorite|    1123804800|   false|null|\n",
            "|0001713353| null|    5.0|The King, the Mic...|03 30, 2005|A1REUF3A1YCPHM|         TW Ervin II|{null,  Hardcover...|A story children ...|    1112140800|   false|null|\n",
            "|0001713353| null|    5.0|My daughter got h...| 04 4, 2004| A1YRBRK2XM5D5|   Rebecca L. Menner|{null,  Hardcover...|          Third copy|    1081036800|   false|   5|\n",
            "|0001713353| null|    5.0|I remember this b...|02 21, 2004|A1V8ZR5P78P4ZU|         Mindy Stone|{null,  Hardcover...|Graphically Wonde...|    1077321600|   false|null|\n",
            "|0001713353| null|    5.0|Just as I remembe...| 10 3, 2016|A2ZB06582NXCIV|          B. Deniger|                null|Great condition, ...|    1475452800|    true|null|\n",
            "|0001713353| null|    5.0|It is a very cute...|07 29, 2016| ACPQVNRD3Z09X|       Terri Dickson|{null,  Hardcover...|          Five Stars|    1469750400|    true|null|\n",
            "|0001713353| null|    5.0|  The kids loved it!|06 20, 2016| AVP0HXC9FG790|     Amazon Customer|                null|          Five Stars|    1466380800|    true|null|\n",
            "|0001713353| null|    5.0|I was just so hap...|04 24, 2016|A32MQTLQQN44WW|        jackie hogan|{null,  Paperback...|Got a special par...|    1461456000|    true|null|\n",
            "|0001713353| null|    5.0|      good comdition|02 14, 2016|A13CHIJPFCEP2M|   Janice Cunningham|{null,  Hardcover...|          Five Stars|    1455408000|    true|null|\n",
            "|0001713353| null|    5.0|My students (3 & ...|01 24, 2016|A324TTUBKTN73A|        Tekla Borner|{null,  Paperback...|          Five Stars|    1453593600|    true|null|\n",
            "|0001713353| null|    5.0|A thought-provoki...|11 12, 2015| ADLBKEDYXKXCH|                LouS|{null,  Paperback...|          Five Stars|    1447286400|    true|null|\n",
            "|0001713353| null|    5.0|My favorite book ...|07 21, 2015|A3MVI1KIZQA9XB|           Charlie C|{null,  Hardcover...|My favorite book ...|    1437436800|    true|null|\n",
            "|0001713353| null|    5.0|             LOVE IT| 07 9, 2015|A2RE7WG349NV5D|Deborah K Woroniecki|{null,  Paperback...|          Five Stars|    1436400000|   false|null|\n",
            "|0001713353| null|    4.0|Great story. I lo...|06 23, 2015|A2GSWEYW6Y4OIY|       Gary Phillips|{null,  Hardcover...|Great story. I lo...|    1435017600|    true|null|\n",
            "|0001713353| null|    5.0|This is a cute st...|05 21, 2015| AX8YZYILXC7LT|                  KM|{null,  Hardcover...|This is a cute st...|    1432166400|    true|null|\n",
            "|0001713353| null|    5.0|            Perfect!| 02 9, 2015| ABZ2UEQ2JRYJ9|         Doug Ruhman|                null|          Five Stars|    1423440000|    true|null|\n",
            "|0001713353| null|    5.0|              Great!|01 18, 2015|A32B7QIUDQCD0E|                   E|                null|          Five Stars|    1421539200|    true|null|\n",
            "|0001713353| null|    5.0|This was my 51 ye...|09 22, 2014|A25PQPZXU63223|          pat brooks|                null|This was my 51 ye...|    1411344000|    true|null|\n",
            "|0001713353| null|    5.0|  Great vintage book|09 13, 2014| AUZXLPH8BN28C|              sharon|{null,  Hardcover...|A must have dr Se...|    1410566400|    true|null|\n",
            "|0001713353| null|    5.0|One of my favorit...| 07 2, 2014|A2VXMOSOTK0W70|       Kevin Northup|                null|      A true classic|    1404259200|    true|null|\n",
            "+----------+-----+-------+--------------------+-----------+--------------+--------------------+--------------------+--------------------+--------------+--------+----+\n",
            "only showing top 20 rows\n",
            "\n"
          ]
        }
      ]
    },
    {
      "cell_type": "code",
      "source": [
        "df.filter(df[\"overall\"] == 5.0).show()"
      ],
      "metadata": {
        "colab": {
          "base_uri": "https://localhost:8080/"
        },
        "id": "TsJ9_wBNZAr5",
        "outputId": "17134953-2ff1-4df8-92ca-75cbe802e03f"
      },
      "execution_count": null,
      "outputs": [
        {
          "output_type": "stream",
          "name": "stdout",
          "text": [
            "+----------+-----+-------+--------------------+-----------+--------------+--------------------+--------------------+--------------------+--------------+--------+----+\n",
            "|      asin|image|overall|          reviewText| reviewTime|    reviewerID|        reviewerName|               style|             summary|unixReviewTime|verified|vote|\n",
            "+----------+-----+-------+--------------------+-----------+--------------+--------------------+--------------------+--------------------+--------------+--------+----+\n",
            "|0001713353| null|    5.0|This book is a wi...|08 12, 2005|A1C6M8LCIX4M6M|            June Bug|{null,  Paperback...| Children's favorite|    1123804800|   false|null|\n",
            "|0001713353| null|    5.0|The King, the Mic...|03 30, 2005|A1REUF3A1YCPHM|         TW Ervin II|{null,  Hardcover...|A story children ...|    1112140800|   false|null|\n",
            "|0001713353| null|    5.0|My daughter got h...| 04 4, 2004| A1YRBRK2XM5D5|   Rebecca L. Menner|{null,  Hardcover...|          Third copy|    1081036800|   false|   5|\n",
            "|0001713353| null|    5.0|I remember this b...|02 21, 2004|A1V8ZR5P78P4ZU|         Mindy Stone|{null,  Hardcover...|Graphically Wonde...|    1077321600|   false|null|\n",
            "|0001713353| null|    5.0|Just as I remembe...| 10 3, 2016|A2ZB06582NXCIV|          B. Deniger|                null|Great condition, ...|    1475452800|    true|null|\n",
            "|0001713353| null|    5.0|It is a very cute...|07 29, 2016| ACPQVNRD3Z09X|       Terri Dickson|{null,  Hardcover...|          Five Stars|    1469750400|    true|null|\n",
            "|0001713353| null|    5.0|  The kids loved it!|06 20, 2016| AVP0HXC9FG790|     Amazon Customer|                null|          Five Stars|    1466380800|    true|null|\n",
            "|0001713353| null|    5.0|I was just so hap...|04 24, 2016|A32MQTLQQN44WW|        jackie hogan|{null,  Paperback...|Got a special par...|    1461456000|    true|null|\n",
            "|0001713353| null|    5.0|      good comdition|02 14, 2016|A13CHIJPFCEP2M|   Janice Cunningham|{null,  Hardcover...|          Five Stars|    1455408000|    true|null|\n",
            "|0001713353| null|    5.0|My students (3 & ...|01 24, 2016|A324TTUBKTN73A|        Tekla Borner|{null,  Paperback...|          Five Stars|    1453593600|    true|null|\n",
            "|0001713353| null|    5.0|A thought-provoki...|11 12, 2015| ADLBKEDYXKXCH|                LouS|{null,  Paperback...|          Five Stars|    1447286400|    true|null|\n",
            "|0001713353| null|    5.0|My favorite book ...|07 21, 2015|A3MVI1KIZQA9XB|           Charlie C|{null,  Hardcover...|My favorite book ...|    1437436800|    true|null|\n",
            "|0001713353| null|    5.0|             LOVE IT| 07 9, 2015|A2RE7WG349NV5D|Deborah K Woroniecki|{null,  Paperback...|          Five Stars|    1436400000|   false|null|\n",
            "|0001713353| null|    5.0|This is a cute st...|05 21, 2015| AX8YZYILXC7LT|                  KM|{null,  Hardcover...|This is a cute st...|    1432166400|    true|null|\n",
            "|0001713353| null|    5.0|            Perfect!| 02 9, 2015| ABZ2UEQ2JRYJ9|         Doug Ruhman|                null|          Five Stars|    1423440000|    true|null|\n",
            "|0001713353| null|    5.0|              Great!|01 18, 2015|A32B7QIUDQCD0E|                   E|                null|          Five Stars|    1421539200|    true|null|\n",
            "|0001713353| null|    5.0|This was my 51 ye...|09 22, 2014|A25PQPZXU63223|          pat brooks|                null|This was my 51 ye...|    1411344000|    true|null|\n",
            "|0001713353| null|    5.0|  Great vintage book|09 13, 2014| AUZXLPH8BN28C|              sharon|{null,  Hardcover...|A must have dr Se...|    1410566400|    true|null|\n",
            "|0001713353| null|    5.0|One of my favorit...| 07 2, 2014|A2VXMOSOTK0W70|       Kevin Northup|                null|      A true classic|    1404259200|    true|null|\n",
            "|0001713353| null|    5.0|This was a favour...|06 20, 2014|A232U4KSNYAO2R|               Wendz|{null,  Hardcover...|         A Favourite|    1403222400|    true|null|\n",
            "+----------+-----+-------+--------------------+-----------+--------------+--------------------+--------------------+--------------------+--------------+--------+----+\n",
            "only showing top 20 rows\n",
            "\n"
          ]
        }
      ]
    },
    {
      "cell_type": "code",
      "source": [
        "df.where(df[\"overall\"] == 5.0).show()"
      ],
      "metadata": {
        "colab": {
          "base_uri": "https://localhost:8080/"
        },
        "id": "xLlT2k0TaTYA",
        "outputId": "aa3e2c12-0fd1-43e9-92dc-dd76148f469c"
      },
      "execution_count": null,
      "outputs": [
        {
          "output_type": "stream",
          "name": "stdout",
          "text": [
            "+----------+-----+-------+--------------------+-----------+--------------+--------------------+--------------------+--------------------+--------------+--------+----+\n",
            "|      asin|image|overall|          reviewText| reviewTime|    reviewerID|        reviewerName|               style|             summary|unixReviewTime|verified|vote|\n",
            "+----------+-----+-------+--------------------+-----------+--------------+--------------------+--------------------+--------------------+--------------+--------+----+\n",
            "|0001713353| null|    5.0|This book is a wi...|08 12, 2005|A1C6M8LCIX4M6M|            June Bug|{null,  Paperback...| Children's favorite|    1123804800|   false|null|\n",
            "|0001713353| null|    5.0|The King, the Mic...|03 30, 2005|A1REUF3A1YCPHM|         TW Ervin II|{null,  Hardcover...|A story children ...|    1112140800|   false|null|\n",
            "|0001713353| null|    5.0|My daughter got h...| 04 4, 2004| A1YRBRK2XM5D5|   Rebecca L. Menner|{null,  Hardcover...|          Third copy|    1081036800|   false|   5|\n",
            "|0001713353| null|    5.0|I remember this b...|02 21, 2004|A1V8ZR5P78P4ZU|         Mindy Stone|{null,  Hardcover...|Graphically Wonde...|    1077321600|   false|null|\n",
            "|0001713353| null|    5.0|Just as I remembe...| 10 3, 2016|A2ZB06582NXCIV|          B. Deniger|                null|Great condition, ...|    1475452800|    true|null|\n",
            "|0001713353| null|    5.0|It is a very cute...|07 29, 2016| ACPQVNRD3Z09X|       Terri Dickson|{null,  Hardcover...|          Five Stars|    1469750400|    true|null|\n",
            "|0001713353| null|    5.0|  The kids loved it!|06 20, 2016| AVP0HXC9FG790|     Amazon Customer|                null|          Five Stars|    1466380800|    true|null|\n",
            "|0001713353| null|    5.0|I was just so hap...|04 24, 2016|A32MQTLQQN44WW|        jackie hogan|{null,  Paperback...|Got a special par...|    1461456000|    true|null|\n",
            "|0001713353| null|    5.0|      good comdition|02 14, 2016|A13CHIJPFCEP2M|   Janice Cunningham|{null,  Hardcover...|          Five Stars|    1455408000|    true|null|\n",
            "|0001713353| null|    5.0|My students (3 & ...|01 24, 2016|A324TTUBKTN73A|        Tekla Borner|{null,  Paperback...|          Five Stars|    1453593600|    true|null|\n",
            "|0001713353| null|    5.0|A thought-provoki...|11 12, 2015| ADLBKEDYXKXCH|                LouS|{null,  Paperback...|          Five Stars|    1447286400|    true|null|\n",
            "|0001713353| null|    5.0|My favorite book ...|07 21, 2015|A3MVI1KIZQA9XB|           Charlie C|{null,  Hardcover...|My favorite book ...|    1437436800|    true|null|\n",
            "|0001713353| null|    5.0|             LOVE IT| 07 9, 2015|A2RE7WG349NV5D|Deborah K Woroniecki|{null,  Paperback...|          Five Stars|    1436400000|   false|null|\n",
            "|0001713353| null|    5.0|This is a cute st...|05 21, 2015| AX8YZYILXC7LT|                  KM|{null,  Hardcover...|This is a cute st...|    1432166400|    true|null|\n",
            "|0001713353| null|    5.0|            Perfect!| 02 9, 2015| ABZ2UEQ2JRYJ9|         Doug Ruhman|                null|          Five Stars|    1423440000|    true|null|\n",
            "|0001713353| null|    5.0|              Great!|01 18, 2015|A32B7QIUDQCD0E|                   E|                null|          Five Stars|    1421539200|    true|null|\n",
            "|0001713353| null|    5.0|This was my 51 ye...|09 22, 2014|A25PQPZXU63223|          pat brooks|                null|This was my 51 ye...|    1411344000|    true|null|\n",
            "|0001713353| null|    5.0|  Great vintage book|09 13, 2014| AUZXLPH8BN28C|              sharon|{null,  Hardcover...|A must have dr Se...|    1410566400|    true|null|\n",
            "|0001713353| null|    5.0|One of my favorit...| 07 2, 2014|A2VXMOSOTK0W70|       Kevin Northup|                null|      A true classic|    1404259200|    true|null|\n",
            "|0001713353| null|    5.0|This was a favour...|06 20, 2014|A232U4KSNYAO2R|               Wendz|{null,  Hardcover...|         A Favourite|    1403222400|    true|null|\n",
            "+----------+-----+-------+--------------------+-----------+--------------+--------------------+--------------------+--------------------+--------------+--------+----+\n",
            "only showing top 20 rows\n",
            "\n"
          ]
        }
      ]
    },
    {
      "cell_type": "code",
      "source": [
        "df.where(df[\"overall\"].isin(5.0)).show()"
      ],
      "metadata": {
        "colab": {
          "base_uri": "https://localhost:8080/"
        },
        "id": "3OaODH7barTx",
        "outputId": "d63b9716-8d1d-4049-9e8f-978db14b3454"
      },
      "execution_count": null,
      "outputs": [
        {
          "output_type": "stream",
          "name": "stdout",
          "text": [
            "+----------+-----+-------+--------------------+-----------+--------------+--------------------+--------------------+--------------------+--------------+--------+----+\n",
            "|      asin|image|overall|          reviewText| reviewTime|    reviewerID|        reviewerName|               style|             summary|unixReviewTime|verified|vote|\n",
            "+----------+-----+-------+--------------------+-----------+--------------+--------------------+--------------------+--------------------+--------------+--------+----+\n",
            "|0001713353| null|    5.0|This book is a wi...|08 12, 2005|A1C6M8LCIX4M6M|            June Bug|{null,  Paperback...| Children's favorite|    1123804800|   false|null|\n",
            "|0001713353| null|    5.0|The King, the Mic...|03 30, 2005|A1REUF3A1YCPHM|         TW Ervin II|{null,  Hardcover...|A story children ...|    1112140800|   false|null|\n",
            "|0001713353| null|    5.0|My daughter got h...| 04 4, 2004| A1YRBRK2XM5D5|   Rebecca L. Menner|{null,  Hardcover...|          Third copy|    1081036800|   false|   5|\n",
            "|0001713353| null|    5.0|I remember this b...|02 21, 2004|A1V8ZR5P78P4ZU|         Mindy Stone|{null,  Hardcover...|Graphically Wonde...|    1077321600|   false|null|\n",
            "|0001713353| null|    5.0|Just as I remembe...| 10 3, 2016|A2ZB06582NXCIV|          B. Deniger|                null|Great condition, ...|    1475452800|    true|null|\n",
            "|0001713353| null|    5.0|It is a very cute...|07 29, 2016| ACPQVNRD3Z09X|       Terri Dickson|{null,  Hardcover...|          Five Stars|    1469750400|    true|null|\n",
            "|0001713353| null|    5.0|  The kids loved it!|06 20, 2016| AVP0HXC9FG790|     Amazon Customer|                null|          Five Stars|    1466380800|    true|null|\n",
            "|0001713353| null|    5.0|I was just so hap...|04 24, 2016|A32MQTLQQN44WW|        jackie hogan|{null,  Paperback...|Got a special par...|    1461456000|    true|null|\n",
            "|0001713353| null|    5.0|      good comdition|02 14, 2016|A13CHIJPFCEP2M|   Janice Cunningham|{null,  Hardcover...|          Five Stars|    1455408000|    true|null|\n",
            "|0001713353| null|    5.0|My students (3 & ...|01 24, 2016|A324TTUBKTN73A|        Tekla Borner|{null,  Paperback...|          Five Stars|    1453593600|    true|null|\n",
            "|0001713353| null|    5.0|A thought-provoki...|11 12, 2015| ADLBKEDYXKXCH|                LouS|{null,  Paperback...|          Five Stars|    1447286400|    true|null|\n",
            "|0001713353| null|    5.0|My favorite book ...|07 21, 2015|A3MVI1KIZQA9XB|           Charlie C|{null,  Hardcover...|My favorite book ...|    1437436800|    true|null|\n",
            "|0001713353| null|    5.0|             LOVE IT| 07 9, 2015|A2RE7WG349NV5D|Deborah K Woroniecki|{null,  Paperback...|          Five Stars|    1436400000|   false|null|\n",
            "|0001713353| null|    5.0|This is a cute st...|05 21, 2015| AX8YZYILXC7LT|                  KM|{null,  Hardcover...|This is a cute st...|    1432166400|    true|null|\n",
            "|0001713353| null|    5.0|            Perfect!| 02 9, 2015| ABZ2UEQ2JRYJ9|         Doug Ruhman|                null|          Five Stars|    1423440000|    true|null|\n",
            "|0001713353| null|    5.0|              Great!|01 18, 2015|A32B7QIUDQCD0E|                   E|                null|          Five Stars|    1421539200|    true|null|\n",
            "|0001713353| null|    5.0|This was my 51 ye...|09 22, 2014|A25PQPZXU63223|          pat brooks|                null|This was my 51 ye...|    1411344000|    true|null|\n",
            "|0001713353| null|    5.0|  Great vintage book|09 13, 2014| AUZXLPH8BN28C|              sharon|{null,  Hardcover...|A must have dr Se...|    1410566400|    true|null|\n",
            "|0001713353| null|    5.0|One of my favorit...| 07 2, 2014|A2VXMOSOTK0W70|       Kevin Northup|                null|      A true classic|    1404259200|    true|null|\n",
            "|0001713353| null|    5.0|This was a favour...|06 20, 2014|A232U4KSNYAO2R|               Wendz|{null,  Hardcover...|         A Favourite|    1403222400|    true|null|\n",
            "+----------+-----+-------+--------------------+-----------+--------------+--------------------+--------------------+--------------------+--------------+--------+----+\n",
            "only showing top 20 rows\n",
            "\n"
          ]
        }
      ]
    },
    {
      "cell_type": "code",
      "source": [
        "grouped_data = df.groupby(df[\"overall\"])"
      ],
      "metadata": {
        "id": "X5SvJ2dObI3R"
      },
      "execution_count": null,
      "outputs": []
    },
    {
      "cell_type": "code",
      "source": [
        "grouped_data.count().show()"
      ],
      "metadata": {
        "colab": {
          "base_uri": "https://localhost:8080/"
        },
        "id": "VpBpbRL7bb36",
        "outputId": "bf62118c-db6e-4c33-8aa8-a5a3ee103e03"
      },
      "execution_count": null,
      "outputs": [
        {
          "output_type": "stream",
          "name": "stdout",
          "text": [
            "+-------+--------+\n",
            "|overall|   count|\n",
            "+-------+--------+\n",
            "|    1.0| 2088314|\n",
            "|    4.0| 9557650|\n",
            "|    3.0| 3835225|\n",
            "|    2.0| 1850688|\n",
            "|    5.0|33979736|\n",
            "|    0.0|       8|\n",
            "+-------+--------+\n",
            "\n"
          ]
        }
      ]
    },
    {
      "cell_type": "code",
      "source": [
        "grouped_data = df.groupBy(df[\"overall\"])"
      ],
      "metadata": {
        "id": "jIyHomJ3bv1s"
      },
      "execution_count": null,
      "outputs": []
    },
    {
      "cell_type": "code",
      "source": [
        "grouped_data.count().show()"
      ],
      "metadata": {
        "colab": {
          "base_uri": "https://localhost:8080/"
        },
        "id": "ZNUeoMFsfBHE",
        "outputId": "0e597e0d-1086-4fd6-870d-2d20874a2da2"
      },
      "execution_count": null,
      "outputs": [
        {
          "output_type": "stream",
          "name": "stdout",
          "text": [
            "+-------+--------+\n",
            "|overall|   count|\n",
            "+-------+--------+\n",
            "|    1.0| 2088314|\n",
            "|    4.0| 9557650|\n",
            "|    3.0| 3835225|\n",
            "|    2.0| 1850688|\n",
            "|    5.0|33979736|\n",
            "|    0.0|       8|\n",
            "+-------+--------+\n",
            "\n"
          ]
        }
      ]
    },
    {
      "cell_type": "markdown",
      "source": [
        "#**```coalesce()```** to merge partitions into desired less number of partitions. "
      ],
      "metadata": {
        "id": "lISYaffkgSnH"
      }
    },
    {
      "cell_type": "code",
      "source": [
        "classification_df = df.select(df[\"overall\"],df[\"reviewText\"])"
      ],
      "metadata": {
        "id": "kXtYDVCdfFEm"
      },
      "execution_count": null,
      "outputs": []
    },
    {
      "cell_type": "code",
      "source": [
        "classification_df"
      ],
      "metadata": {
        "colab": {
          "base_uri": "https://localhost:8080/"
        },
        "id": "lfDTb6co_7K2",
        "outputId": "90d028df-f61b-4b0e-f3e9-0419becf77a9"
      },
      "execution_count": null,
      "outputs": [
        {
          "output_type": "execute_result",
          "data": {
            "text/plain": [
              "DataFrame[overall: double, reviewText: string]"
            ]
          },
          "metadata": {},
          "execution_count": 32
        }
      ]
    },
    {
      "cell_type": "code",
      "source": [
        "classification_df.columns"
      ],
      "metadata": {
        "colab": {
          "base_uri": "https://localhost:8080/"
        },
        "id": "dZJFaT54_9I-",
        "outputId": "68961155-c29b-41c8-ebc6-0d0197bbd4ca"
      },
      "execution_count": null,
      "outputs": [
        {
          "output_type": "execute_result",
          "data": {
            "text/plain": [
              "['overall', 'reviewText']"
            ]
          },
          "metadata": {},
          "execution_count": 33
        }
      ]
    },
    {
      "cell_type": "code",
      "source": [
        "cols = df.columns"
      ],
      "metadata": {
        "id": "jyk5_F3LAjWD"
      },
      "execution_count": null,
      "outputs": []
    },
    {
      "cell_type": "code",
      "source": [
        "cols"
      ],
      "metadata": {
        "colab": {
          "base_uri": "https://localhost:8080/"
        },
        "id": "FB4TtHn8Bh0X",
        "outputId": "7dc834b5-5e51-42ca-eddd-34dbf60f300a"
      },
      "execution_count": null,
      "outputs": [
        {
          "output_type": "execute_result",
          "data": {
            "text/plain": [
              "['asin',\n",
              " 'image',\n",
              " 'overall',\n",
              " 'reviewText',\n",
              " 'reviewTime',\n",
              " 'reviewerID',\n",
              " 'reviewerName',\n",
              " 'style',\n",
              " 'summary',\n",
              " 'unixReviewTime',\n",
              " 'verified',\n",
              " 'vote']"
            ]
          },
          "metadata": {},
          "execution_count": 35
        }
      ]
    },
    {
      "cell_type": "code",
      "source": [
        "classification_df = df.drop(*(cols[0:2]+cols[4:]))"
      ],
      "metadata": {
        "id": "3E7Mgj_bBk8Y"
      },
      "execution_count": null,
      "outputs": []
    },
    {
      "cell_type": "code",
      "source": [
        "classification_df.columns"
      ],
      "metadata": {
        "colab": {
          "base_uri": "https://localhost:8080/"
        },
        "id": "U5XfD5FAB5LC",
        "outputId": "f66421ab-a004-4607-ef16-8b97b4717aac"
      },
      "execution_count": null,
      "outputs": [
        {
          "output_type": "execute_result",
          "data": {
            "text/plain": [
              "['overall', 'reviewText']"
            ]
          },
          "metadata": {},
          "execution_count": 37
        }
      ]
    },
    {
      "cell_type": "code",
      "source": [
        "classification_df = classification_df.select(\"reviewText\",\"overall\",\n",
        "                         col(\"overall\").cast(\"int\").alias(\"overall_ratings_int\"))"
      ],
      "metadata": {
        "id": "3WhYFSlqB7Yk"
      },
      "execution_count": null,
      "outputs": []
    },
    {
      "cell_type": "code",
      "source": [
        "classification_df"
      ],
      "metadata": {
        "colab": {
          "base_uri": "https://localhost:8080/"
        },
        "id": "SHzS3yt0FXif",
        "outputId": "6114057e-6d6b-43c4-dc5f-9189ce9415ed"
      },
      "execution_count": null,
      "outputs": [
        {
          "output_type": "execute_result",
          "data": {
            "text/plain": [
              "DataFrame[reviewText: string, overall: double, overall_ratings_int: int]"
            ]
          },
          "metadata": {},
          "execution_count": 39
        }
      ]
    },
    {
      "cell_type": "code",
      "source": [
        "classification_df.show()"
      ],
      "metadata": {
        "colab": {
          "base_uri": "https://localhost:8080/"
        },
        "id": "eKiIW7JcF3rh",
        "outputId": "346cf0fd-a7c1-4c23-a24f-64b54eee16e3"
      },
      "execution_count": null,
      "outputs": [
        {
          "output_type": "stream",
          "name": "stdout",
          "text": [
            "+--------------------+-------+-------------------+\n",
            "|          reviewText|overall|overall_ratings_int|\n",
            "+--------------------+-------+-------------------+\n",
            "|This book is a wi...|    5.0|                  5|\n",
            "|The King, the Mic...|    5.0|                  5|\n",
            "|My daughter got h...|    5.0|                  5|\n",
            "|I remember this b...|    5.0|                  5|\n",
            "|Just as I remembe...|    5.0|                  5|\n",
            "|It is a very cute...|    5.0|                  5|\n",
            "|  The kids loved it!|    5.0|                  5|\n",
            "|I was just so hap...|    5.0|                  5|\n",
            "|      good comdition|    5.0|                  5|\n",
            "|My students (3 & ...|    5.0|                  5|\n",
            "|A thought-provoki...|    5.0|                  5|\n",
            "|My favorite book ...|    5.0|                  5|\n",
            "|             LOVE IT|    5.0|                  5|\n",
            "|Great story. I lo...|    4.0|                  4|\n",
            "|This is a cute st...|    5.0|                  5|\n",
            "|            Perfect!|    5.0|                  5|\n",
            "|              Great!|    5.0|                  5|\n",
            "|This was my 51 ye...|    5.0|                  5|\n",
            "|  Great vintage book|    5.0|                  5|\n",
            "|One of my favorit...|    5.0|                  5|\n",
            "+--------------------+-------+-------------------+\n",
            "only showing top 20 rows\n",
            "\n"
          ]
        }
      ]
    },
    {
      "cell_type": "code",
      "source": [
        "classification_df = df.drop(*(cols[0:2]+cols[4:]))"
      ],
      "metadata": {
        "id": "lbtrR_aLF8az"
      },
      "execution_count": null,
      "outputs": []
    },
    {
      "cell_type": "code",
      "source": [
        "classification_df"
      ],
      "metadata": {
        "colab": {
          "base_uri": "https://localhost:8080/"
        },
        "id": "7NodSeMaGJ1q",
        "outputId": "b467ac6d-b15e-47e3-aeef-158e25d2b02a"
      },
      "execution_count": null,
      "outputs": [
        {
          "output_type": "execute_result",
          "data": {
            "text/plain": [
              "DataFrame[overall: double, reviewText: string]"
            ]
          },
          "metadata": {},
          "execution_count": 42
        }
      ]
    },
    {
      "cell_type": "code",
      "source": [
        "classification_df = classification_df.select(\"reviewText\",\"overall\",\n",
        "                                             col(\"overall\")\n",
        "                                             .cast(\"int\").alias(\"overall\"))"
      ],
      "metadata": {
        "id": "lZ-cXEgbJZu3"
      },
      "execution_count": null,
      "outputs": []
    },
    {
      "cell_type": "code",
      "source": [
        "classification_df"
      ],
      "metadata": {
        "colab": {
          "base_uri": "https://localhost:8080/"
        },
        "id": "mhst3IjAKBms",
        "outputId": "f4aca70f-07c2-43f2-db3f-8ab58a8b1ea9"
      },
      "execution_count": null,
      "outputs": [
        {
          "output_type": "execute_result",
          "data": {
            "text/plain": [
              "DataFrame[reviewText: string, overall: double, overall: int]"
            ]
          },
          "metadata": {},
          "execution_count": 44
        }
      ]
    },
    {
      "cell_type": "code",
      "source": [
        "classification_df = df.drop(*(cols[0:2]+cols[4:]))"
      ],
      "metadata": {
        "id": "8Vm_aytkKKFB"
      },
      "execution_count": null,
      "outputs": []
    },
    {
      "cell_type": "code",
      "source": [
        "classification_df = classification_df.select(\"reviewText\",\"overall\",\n",
        "                                             col(\"overall\")\n",
        "                                             .cast(\"int\")\n",
        "                                             .alias(\"overall_ratings_int\")).drop(\"overall\")"
      ],
      "metadata": {
        "id": "qkcktxDNHh27"
      },
      "execution_count": null,
      "outputs": []
    },
    {
      "cell_type": "code",
      "source": [
        "classification_df"
      ],
      "metadata": {
        "colab": {
          "base_uri": "https://localhost:8080/"
        },
        "id": "m0QSVtc7I73n",
        "outputId": "846a41bf-ac25-4c5c-eb74-be20ff9668a6"
      },
      "execution_count": null,
      "outputs": [
        {
          "output_type": "execute_result",
          "data": {
            "text/plain": [
              "DataFrame[reviewText: string, overall_ratings_int: int]"
            ]
          },
          "metadata": {},
          "execution_count": 47
        }
      ]
    },
    {
      "cell_type": "code",
      "source": [
        "classification_df = df.drop(*(cols[0:2]+cols[4:]))"
      ],
      "metadata": {
        "id": "apWeq8VtJXAt"
      },
      "execution_count": null,
      "outputs": []
    },
    {
      "cell_type": "code",
      "source": [
        "classification_df = classification_df.withColumns({\"overall_ratings_int\":col(\"overall\")\n",
        "                                                  .cast(\"int\")}).drop(\"overall\")"
      ],
      "metadata": {
        "id": "ZfW1tEL2KS-X"
      },
      "execution_count": null,
      "outputs": []
    },
    {
      "cell_type": "code",
      "source": [
        "classification_df"
      ],
      "metadata": {
        "colab": {
          "base_uri": "https://localhost:8080/"
        },
        "id": "Vvk_lyLwMKlI",
        "outputId": "a0fabf85-11d4-4b7b-daf7-038095fa5b15"
      },
      "execution_count": null,
      "outputs": [
        {
          "output_type": "execute_result",
          "data": {
            "text/plain": [
              "DataFrame[reviewText: string, overall_ratings_int: int]"
            ]
          },
          "metadata": {},
          "execution_count": 50
        }
      ]
    },
    {
      "cell_type": "code",
      "source": [
        "df"
      ],
      "metadata": {
        "id": "epbcCoq1OZxA",
        "colab": {
          "base_uri": "https://localhost:8080/"
        },
        "outputId": "be7d16e5-19cc-4c0b-bb05-3bf75a99486f"
      },
      "execution_count": null,
      "outputs": [
        {
          "output_type": "execute_result",
          "data": {
            "text/plain": [
              "DataFrame[asin: string, image: array<string>, overall: double, reviewText: string, reviewTime: string, reviewerID: string, reviewerName: string, style: struct<Color::string,Format::string,Package Quantity::string,Size::string,Style Name::string,Style::string>, summary: string, unixReviewTime: bigint, verified: boolean, vote: string]"
            ]
          },
          "metadata": {},
          "execution_count": 51
        }
      ]
    },
    {
      "cell_type": "code",
      "source": [
        "df.printSchema()"
      ],
      "metadata": {
        "colab": {
          "base_uri": "https://localhost:8080/"
        },
        "id": "r22J27ZCr-4K",
        "outputId": "2cba2462-c029-430f-aec5-b1160d05bef8"
      },
      "execution_count": null,
      "outputs": [
        {
          "output_type": "stream",
          "name": "stdout",
          "text": [
            "root\n",
            " |-- asin: string (nullable = true)\n",
            " |-- image: array (nullable = true)\n",
            " |    |-- element: string (containsNull = true)\n",
            " |-- overall: double (nullable = true)\n",
            " |-- reviewText: string (nullable = true)\n",
            " |-- reviewTime: string (nullable = true)\n",
            " |-- reviewerID: string (nullable = true)\n",
            " |-- reviewerName: string (nullable = true)\n",
            " |-- style: struct (nullable = true)\n",
            " |    |-- Color:: string (nullable = true)\n",
            " |    |-- Format:: string (nullable = true)\n",
            " |    |-- Package Quantity:: string (nullable = true)\n",
            " |    |-- Size:: string (nullable = true)\n",
            " |    |-- Style Name:: string (nullable = true)\n",
            " |    |-- Style:: string (nullable = true)\n",
            " |-- summary: string (nullable = true)\n",
            " |-- unixReviewTime: long (nullable = true)\n",
            " |-- verified: boolean (nullable = true)\n",
            " |-- vote: string (nullable = true)\n",
            "\n"
          ]
        }
      ]
    },
    {
      "cell_type": "code",
      "source": [
        "cols"
      ],
      "metadata": {
        "colab": {
          "base_uri": "https://localhost:8080/"
        },
        "id": "j7u5Qlvhs51K",
        "outputId": "0cbee507-c4ee-4337-8ea3-4aca448998f5"
      },
      "execution_count": null,
      "outputs": [
        {
          "output_type": "execute_result",
          "data": {
            "text/plain": [
              "['asin',\n",
              " 'image',\n",
              " 'overall',\n",
              " 'reviewText',\n",
              " 'reviewTime',\n",
              " 'reviewerID',\n",
              " 'reviewerName',\n",
              " 'style',\n",
              " 'summary',\n",
              " 'unixReviewTime',\n",
              " 'verified',\n",
              " 'vote']"
            ]
          },
          "metadata": {},
          "execution_count": 53
        }
      ]
    },
    {
      "cell_type": "code",
      "source": [
        "summarization_df = df.drop(*(cols[0:8]+[cols[9]]))"
      ],
      "metadata": {
        "id": "4n2rhr2ptFbQ"
      },
      "execution_count": null,
      "outputs": []
    },
    {
      "cell_type": "code",
      "source": [
        "summarization_df"
      ],
      "metadata": {
        "colab": {
          "base_uri": "https://localhost:8080/"
        },
        "id": "X7UV007jtWpr",
        "outputId": "6cdf769c-41f2-45e3-9840-984445a534ff"
      },
      "execution_count": null,
      "outputs": [
        {
          "output_type": "execute_result",
          "data": {
            "text/plain": [
              "DataFrame[summary: string, verified: boolean, vote: string]"
            ]
          },
          "metadata": {},
          "execution_count": 55
        }
      ]
    },
    {
      "cell_type": "code",
      "source": [
        "summarization_df.show()"
      ],
      "metadata": {
        "colab": {
          "base_uri": "https://localhost:8080/"
        },
        "id": "gjM0EMowtYP7",
        "outputId": "7fd3669a-4a33-4b82-f553-012d8e4477c3"
      },
      "execution_count": null,
      "outputs": [
        {
          "output_type": "stream",
          "name": "stdout",
          "text": [
            "+--------------------+--------+----+\n",
            "|             summary|verified|vote|\n",
            "+--------------------+--------+----+\n",
            "| Children's favorite|   false|null|\n",
            "|A story children ...|   false|null|\n",
            "|          Third copy|   false|   5|\n",
            "|Graphically Wonde...|   false|null|\n",
            "|Great condition, ...|    true|null|\n",
            "|          Five Stars|    true|null|\n",
            "|          Five Stars|    true|null|\n",
            "|Got a special par...|    true|null|\n",
            "|          Five Stars|    true|null|\n",
            "|          Five Stars|    true|null|\n",
            "|          Five Stars|    true|null|\n",
            "|My favorite book ...|    true|null|\n",
            "|          Five Stars|   false|null|\n",
            "|Great story. I lo...|    true|null|\n",
            "|This is a cute st...|    true|null|\n",
            "|          Five Stars|    true|null|\n",
            "|          Five Stars|    true|null|\n",
            "|This was my 51 ye...|    true|null|\n",
            "|A must have dr Se...|    true|null|\n",
            "|      A true classic|    true|null|\n",
            "+--------------------+--------+----+\n",
            "only showing top 20 rows\n",
            "\n"
          ]
        }
      ]
    },
    {
      "cell_type": "code",
      "source": [
        "default_inner_join_df = classification_df.join(summarization_df,\n",
        "                       on=(summarization_df[\"verified\"]==\"true\"))"
      ],
      "metadata": {
        "id": "x9DNWwdluPap"
      },
      "execution_count": null,
      "outputs": []
    },
    {
      "cell_type": "code",
      "source": [
        "default_inner_join_df.show()"
      ],
      "metadata": {
        "colab": {
          "base_uri": "https://localhost:8080/"
        },
        "id": "l2_G-oyq63y6",
        "outputId": "0dfed2d9-294d-411a-9c5f-287383e17fe9"
      },
      "execution_count": null,
      "outputs": [
        {
          "output_type": "stream",
          "name": "stdout",
          "text": [
            "+--------------------+-------------------+--------------------+--------+----+\n",
            "|          reviewText|overall_ratings_int|             summary|verified|vote|\n",
            "+--------------------+-------------------+--------------------+--------+----+\n",
            "|This book is a wi...|                  5|Great condition, ...|    true|null|\n",
            "|This book is a wi...|                  5|          Five Stars|    true|null|\n",
            "|This book is a wi...|                  5|          Five Stars|    true|null|\n",
            "|This book is a wi...|                  5|Got a special par...|    true|null|\n",
            "|This book is a wi...|                  5|          Five Stars|    true|null|\n",
            "|This book is a wi...|                  5|          Five Stars|    true|null|\n",
            "|This book is a wi...|                  5|          Five Stars|    true|null|\n",
            "|This book is a wi...|                  5|My favorite book ...|    true|null|\n",
            "|This book is a wi...|                  5|Great story. I lo...|    true|null|\n",
            "|This book is a wi...|                  5|This is a cute st...|    true|null|\n",
            "|This book is a wi...|                  5|          Five Stars|    true|null|\n",
            "|This book is a wi...|                  5|          Five Stars|    true|null|\n",
            "|This book is a wi...|                  5|This was my 51 ye...|    true|null|\n",
            "|This book is a wi...|                  5|A must have dr Se...|    true|null|\n",
            "|This book is a wi...|                  5|      A true classic|    true|null|\n",
            "|This book is a wi...|                  5|         A Favourite|    true|null|\n",
            "|This book is a wi...|                  5|wonderful childre...|    true|null|\n",
            "|This book is a wi...|                  5|     Very nice shape|    true|null|\n",
            "|This book is a wi...|                  5|One of my favorit...|    true|null|\n",
            "|This book is a wi...|                  5|One of our famili...|    true|null|\n",
            "+--------------------+-------------------+--------------------+--------+----+\n",
            "only showing top 20 rows\n",
            "\n"
          ]
        }
      ]
    },
    {
      "cell_type": "code",
      "source": [
        "default_inner_join_df = summarization_df.join(classification_df,\n",
        "                                              on=(summarization_df[\"verified\"] == \"true\"))"
      ],
      "metadata": {
        "id": "F5v9pV1h68V8"
      },
      "execution_count": null,
      "outputs": []
    },
    {
      "cell_type": "code",
      "source": [
        "default_inner_join_df.show()"
      ],
      "metadata": {
        "colab": {
          "base_uri": "https://localhost:8080/"
        },
        "id": "mDdk24WEHEKD",
        "outputId": "fa801440-ddd3-41cb-965d-484574a2da03"
      },
      "execution_count": null,
      "outputs": [
        {
          "output_type": "stream",
          "name": "stdout",
          "text": [
            "+--------------------+--------+----+--------------------+-------------------+\n",
            "|             summary|verified|vote|          reviewText|overall_ratings_int|\n",
            "+--------------------+--------+----+--------------------+-------------------+\n",
            "|Great condition, ...|    true|null|This book is a wi...|                  5|\n",
            "|Great condition, ...|    true|null|The King, the Mic...|                  5|\n",
            "|Great condition, ...|    true|null|My daughter got h...|                  5|\n",
            "|Great condition, ...|    true|null|I remember this b...|                  5|\n",
            "|Great condition, ...|    true|null|Just as I remembe...|                  5|\n",
            "|Great condition, ...|    true|null|It is a very cute...|                  5|\n",
            "|Great condition, ...|    true|null|  The kids loved it!|                  5|\n",
            "|Great condition, ...|    true|null|I was just so hap...|                  5|\n",
            "|Great condition, ...|    true|null|      good comdition|                  5|\n",
            "|Great condition, ...|    true|null|My students (3 & ...|                  5|\n",
            "|Great condition, ...|    true|null|A thought-provoki...|                  5|\n",
            "|Great condition, ...|    true|null|My favorite book ...|                  5|\n",
            "|Great condition, ...|    true|null|             LOVE IT|                  5|\n",
            "|Great condition, ...|    true|null|Great story. I lo...|                  4|\n",
            "|Great condition, ...|    true|null|This is a cute st...|                  5|\n",
            "|Great condition, ...|    true|null|            Perfect!|                  5|\n",
            "|Great condition, ...|    true|null|              Great!|                  5|\n",
            "|Great condition, ...|    true|null|This was my 51 ye...|                  5|\n",
            "|Great condition, ...|    true|null|  Great vintage book|                  5|\n",
            "|Great condition, ...|    true|null|One of my favorit...|                  5|\n",
            "+--------------------+--------+----+--------------------+-------------------+\n",
            "only showing top 20 rows\n",
            "\n"
          ]
        }
      ]
    },
    {
      "cell_type": "code",
      "source": [
        "left_or_left_outer_join_df = classification_df.join(summarization_df,\n",
        "                                                    on=(summarization_df[\"verified\"]==\"true\"))"
      ],
      "metadata": {
        "id": "6bxFGptoHgDr"
      },
      "execution_count": null,
      "outputs": []
    },
    {
      "cell_type": "code",
      "source": [
        "left_or_left_outer_join_df.show()"
      ],
      "metadata": {
        "colab": {
          "base_uri": "https://localhost:8080/"
        },
        "id": "irWiLrsTPFuJ",
        "outputId": "27763bcc-dd19-4994-9151-a354de53f5dd"
      },
      "execution_count": null,
      "outputs": [
        {
          "output_type": "stream",
          "name": "stdout",
          "text": [
            "+--------------------+-------------------+--------------------+--------+----+\n",
            "|          reviewText|overall_ratings_int|             summary|verified|vote|\n",
            "+--------------------+-------------------+--------------------+--------+----+\n",
            "|This book is a wi...|                  5|Great condition, ...|    true|null|\n",
            "|This book is a wi...|                  5|          Five Stars|    true|null|\n",
            "|This book is a wi...|                  5|          Five Stars|    true|null|\n",
            "|This book is a wi...|                  5|Got a special par...|    true|null|\n",
            "|This book is a wi...|                  5|          Five Stars|    true|null|\n",
            "|This book is a wi...|                  5|          Five Stars|    true|null|\n",
            "|This book is a wi...|                  5|          Five Stars|    true|null|\n",
            "|This book is a wi...|                  5|My favorite book ...|    true|null|\n",
            "|This book is a wi...|                  5|Great story. I lo...|    true|null|\n",
            "|This book is a wi...|                  5|This is a cute st...|    true|null|\n",
            "|This book is a wi...|                  5|          Five Stars|    true|null|\n",
            "|This book is a wi...|                  5|          Five Stars|    true|null|\n",
            "|This book is a wi...|                  5|This was my 51 ye...|    true|null|\n",
            "|This book is a wi...|                  5|A must have dr Se...|    true|null|\n",
            "|This book is a wi...|                  5|      A true classic|    true|null|\n",
            "|This book is a wi...|                  5|         A Favourite|    true|null|\n",
            "|This book is a wi...|                  5|wonderful childre...|    true|null|\n",
            "|This book is a wi...|                  5|     Very nice shape|    true|null|\n",
            "|This book is a wi...|                  5|One of my favorit...|    true|null|\n",
            "|This book is a wi...|                  5|One of our famili...|    true|null|\n",
            "+--------------------+-------------------+--------------------+--------+----+\n",
            "only showing top 20 rows\n",
            "\n"
          ]
        }
      ]
    },
    {
      "cell_type": "code",
      "source": [
        "left_or_left_outer_join_df.where(left_or_left_outer_join_df[\"summary\"] == \"null\").head()"
      ],
      "metadata": {
        "colab": {
          "base_uri": "https://localhost:8080/",
          "height": 467
        },
        "id": "fVaHISsaJx9E",
        "outputId": "dc1ae0a5-6e28-4080-d985-82fc0e6f30bd"
      },
      "execution_count": null,
      "outputs": [
        {
          "output_type": "stream",
          "name": "stderr",
          "text": [
            "ERROR:root:KeyboardInterrupt while sending command.\n",
            "Traceback (most recent call last):\n",
            "  File \"/usr/local/lib/python3.8/dist-packages/py4j/java_gateway.py\", line 1038, in send_command\n",
            "    response = connection.send_command(command)\n",
            "  File \"/usr/local/lib/python3.8/dist-packages/py4j/clientserver.py\", line 511, in send_command\n",
            "    answer = smart_decode(self.stream.readline()[:-1])\n",
            "  File \"/usr/lib/python3.8/socket.py\", line 669, in readinto\n",
            "    return self._sock.recv_into(b)\n",
            "KeyboardInterrupt\n"
          ]
        },
        {
          "output_type": "error",
          "ename": "KeyboardInterrupt",
          "evalue": "ignored",
          "traceback": [
            "\u001b[0;31m---------------------------------------------------------------------------\u001b[0m",
            "\u001b[0;31mKeyboardInterrupt\u001b[0m                         Traceback (most recent call last)",
            "\u001b[0;32m<ipython-input-63-2e8a93d7413e>\u001b[0m in \u001b[0;36m<module>\u001b[0;34m\u001b[0m\n\u001b[0;32m----> 1\u001b[0;31m \u001b[0mleft_or_left_outer_join_df\u001b[0m\u001b[0;34m.\u001b[0m\u001b[0mwhere\u001b[0m\u001b[0;34m(\u001b[0m\u001b[0mleft_or_left_outer_join_df\u001b[0m\u001b[0;34m[\u001b[0m\u001b[0;34m\"summary\"\u001b[0m\u001b[0;34m]\u001b[0m \u001b[0;34m==\u001b[0m \u001b[0;34m\"null\"\u001b[0m\u001b[0;34m)\u001b[0m\u001b[0;34m.\u001b[0m\u001b[0mhead\u001b[0m\u001b[0;34m(\u001b[0m\u001b[0;34m)\u001b[0m\u001b[0;34m\u001b[0m\u001b[0;34m\u001b[0m\u001b[0m\n\u001b[0m",
            "\u001b[0;32m/usr/local/lib/python3.8/dist-packages/pyspark/sql/dataframe.py\u001b[0m in \u001b[0;36mhead\u001b[0;34m(self, n)\u001b[0m\n\u001b[1;32m   1922\u001b[0m         \"\"\"\n\u001b[1;32m   1923\u001b[0m         \u001b[0;32mif\u001b[0m \u001b[0mn\u001b[0m \u001b[0;32mis\u001b[0m \u001b[0;32mNone\u001b[0m\u001b[0;34m:\u001b[0m\u001b[0;34m\u001b[0m\u001b[0;34m\u001b[0m\u001b[0m\n\u001b[0;32m-> 1924\u001b[0;31m             \u001b[0mrs\u001b[0m \u001b[0;34m=\u001b[0m \u001b[0mself\u001b[0m\u001b[0;34m.\u001b[0m\u001b[0mhead\u001b[0m\u001b[0;34m(\u001b[0m\u001b[0;36m1\u001b[0m\u001b[0;34m)\u001b[0m\u001b[0;34m\u001b[0m\u001b[0;34m\u001b[0m\u001b[0m\n\u001b[0m\u001b[1;32m   1925\u001b[0m             \u001b[0;32mreturn\u001b[0m \u001b[0mrs\u001b[0m\u001b[0;34m[\u001b[0m\u001b[0;36m0\u001b[0m\u001b[0;34m]\u001b[0m \u001b[0;32mif\u001b[0m \u001b[0mrs\u001b[0m \u001b[0;32melse\u001b[0m \u001b[0;32mNone\u001b[0m\u001b[0;34m\u001b[0m\u001b[0;34m\u001b[0m\u001b[0m\n\u001b[1;32m   1926\u001b[0m         \u001b[0;32mreturn\u001b[0m \u001b[0mself\u001b[0m\u001b[0;34m.\u001b[0m\u001b[0mtake\u001b[0m\u001b[0;34m(\u001b[0m\u001b[0mn\u001b[0m\u001b[0;34m)\u001b[0m\u001b[0;34m\u001b[0m\u001b[0;34m\u001b[0m\u001b[0m\n",
            "\u001b[0;32m/usr/local/lib/python3.8/dist-packages/pyspark/sql/dataframe.py\u001b[0m in \u001b[0;36mhead\u001b[0;34m(self, n)\u001b[0m\n\u001b[1;32m   1924\u001b[0m             \u001b[0mrs\u001b[0m \u001b[0;34m=\u001b[0m \u001b[0mself\u001b[0m\u001b[0;34m.\u001b[0m\u001b[0mhead\u001b[0m\u001b[0;34m(\u001b[0m\u001b[0;36m1\u001b[0m\u001b[0;34m)\u001b[0m\u001b[0;34m\u001b[0m\u001b[0;34m\u001b[0m\u001b[0m\n\u001b[1;32m   1925\u001b[0m             \u001b[0;32mreturn\u001b[0m \u001b[0mrs\u001b[0m\u001b[0;34m[\u001b[0m\u001b[0;36m0\u001b[0m\u001b[0;34m]\u001b[0m \u001b[0;32mif\u001b[0m \u001b[0mrs\u001b[0m \u001b[0;32melse\u001b[0m \u001b[0;32mNone\u001b[0m\u001b[0;34m\u001b[0m\u001b[0;34m\u001b[0m\u001b[0m\n\u001b[0;32m-> 1926\u001b[0;31m         \u001b[0;32mreturn\u001b[0m \u001b[0mself\u001b[0m\u001b[0;34m.\u001b[0m\u001b[0mtake\u001b[0m\u001b[0;34m(\u001b[0m\u001b[0mn\u001b[0m\u001b[0;34m)\u001b[0m\u001b[0;34m\u001b[0m\u001b[0;34m\u001b[0m\u001b[0m\n\u001b[0m\u001b[1;32m   1927\u001b[0m \u001b[0;34m\u001b[0m\u001b[0m\n\u001b[1;32m   1928\u001b[0m     \u001b[0;32mdef\u001b[0m \u001b[0mfirst\u001b[0m\u001b[0;34m(\u001b[0m\u001b[0mself\u001b[0m\u001b[0;34m)\u001b[0m \u001b[0;34m->\u001b[0m \u001b[0mOptional\u001b[0m\u001b[0;34m[\u001b[0m\u001b[0mRow\u001b[0m\u001b[0;34m]\u001b[0m\u001b[0;34m:\u001b[0m\u001b[0;34m\u001b[0m\u001b[0;34m\u001b[0m\u001b[0m\n",
            "\u001b[0;32m/usr/local/lib/python3.8/dist-packages/pyspark/sql/dataframe.py\u001b[0m in \u001b[0;36mtake\u001b[0;34m(self, num)\u001b[0m\n\u001b[1;32m    866\u001b[0m         \u001b[0;34m[\u001b[0m\u001b[0mRow\u001b[0m\u001b[0;34m(\u001b[0m\u001b[0mage\u001b[0m\u001b[0;34m=\u001b[0m\u001b[0;36m2\u001b[0m\u001b[0;34m,\u001b[0m \u001b[0mname\u001b[0m\u001b[0;34m=\u001b[0m\u001b[0;34m'Alice'\u001b[0m\u001b[0;34m)\u001b[0m\u001b[0;34m,\u001b[0m \u001b[0mRow\u001b[0m\u001b[0;34m(\u001b[0m\u001b[0mage\u001b[0m\u001b[0;34m=\u001b[0m\u001b[0;36m5\u001b[0m\u001b[0;34m,\u001b[0m \u001b[0mname\u001b[0m\u001b[0;34m=\u001b[0m\u001b[0;34m'Bob'\u001b[0m\u001b[0;34m)\u001b[0m\u001b[0;34m]\u001b[0m\u001b[0;34m\u001b[0m\u001b[0;34m\u001b[0m\u001b[0m\n\u001b[1;32m    867\u001b[0m         \"\"\"\n\u001b[0;32m--> 868\u001b[0;31m         \u001b[0;32mreturn\u001b[0m \u001b[0mself\u001b[0m\u001b[0;34m.\u001b[0m\u001b[0mlimit\u001b[0m\u001b[0;34m(\u001b[0m\u001b[0mnum\u001b[0m\u001b[0;34m)\u001b[0m\u001b[0;34m.\u001b[0m\u001b[0mcollect\u001b[0m\u001b[0;34m(\u001b[0m\u001b[0;34m)\u001b[0m\u001b[0;34m\u001b[0m\u001b[0;34m\u001b[0m\u001b[0m\n\u001b[0m\u001b[1;32m    869\u001b[0m \u001b[0;34m\u001b[0m\u001b[0m\n\u001b[1;32m    870\u001b[0m     \u001b[0;32mdef\u001b[0m \u001b[0mtail\u001b[0m\u001b[0;34m(\u001b[0m\u001b[0mself\u001b[0m\u001b[0;34m,\u001b[0m \u001b[0mnum\u001b[0m\u001b[0;34m:\u001b[0m \u001b[0mint\u001b[0m\u001b[0;34m)\u001b[0m \u001b[0;34m->\u001b[0m \u001b[0mList\u001b[0m\u001b[0;34m[\u001b[0m\u001b[0mRow\u001b[0m\u001b[0;34m]\u001b[0m\u001b[0;34m:\u001b[0m\u001b[0;34m\u001b[0m\u001b[0;34m\u001b[0m\u001b[0m\n",
            "\u001b[0;32m/usr/local/lib/python3.8/dist-packages/pyspark/sql/dataframe.py\u001b[0m in \u001b[0;36mcollect\u001b[0;34m(self)\u001b[0m\n\u001b[1;32m    815\u001b[0m         \"\"\"\n\u001b[1;32m    816\u001b[0m         \u001b[0;32mwith\u001b[0m \u001b[0mSCCallSiteSync\u001b[0m\u001b[0;34m(\u001b[0m\u001b[0mself\u001b[0m\u001b[0;34m.\u001b[0m\u001b[0m_sc\u001b[0m\u001b[0;34m)\u001b[0m\u001b[0;34m:\u001b[0m\u001b[0;34m\u001b[0m\u001b[0;34m\u001b[0m\u001b[0m\n\u001b[0;32m--> 817\u001b[0;31m             \u001b[0msock_info\u001b[0m \u001b[0;34m=\u001b[0m \u001b[0mself\u001b[0m\u001b[0;34m.\u001b[0m\u001b[0m_jdf\u001b[0m\u001b[0;34m.\u001b[0m\u001b[0mcollectToPython\u001b[0m\u001b[0;34m(\u001b[0m\u001b[0;34m)\u001b[0m\u001b[0;34m\u001b[0m\u001b[0;34m\u001b[0m\u001b[0m\n\u001b[0m\u001b[1;32m    818\u001b[0m         \u001b[0;32mreturn\u001b[0m \u001b[0mlist\u001b[0m\u001b[0;34m(\u001b[0m\u001b[0m_load_from_socket\u001b[0m\u001b[0;34m(\u001b[0m\u001b[0msock_info\u001b[0m\u001b[0;34m,\u001b[0m \u001b[0mBatchedSerializer\u001b[0m\u001b[0;34m(\u001b[0m\u001b[0mCPickleSerializer\u001b[0m\u001b[0;34m(\u001b[0m\u001b[0;34m)\u001b[0m\u001b[0;34m)\u001b[0m\u001b[0;34m)\u001b[0m\u001b[0;34m)\u001b[0m\u001b[0;34m\u001b[0m\u001b[0;34m\u001b[0m\u001b[0m\n\u001b[1;32m    819\u001b[0m \u001b[0;34m\u001b[0m\u001b[0m\n",
            "\u001b[0;32m/usr/local/lib/python3.8/dist-packages/py4j/java_gateway.py\u001b[0m in \u001b[0;36m__call__\u001b[0;34m(self, *args)\u001b[0m\n\u001b[1;32m   1318\u001b[0m             \u001b[0mproto\u001b[0m\u001b[0;34m.\u001b[0m\u001b[0mEND_COMMAND_PART\u001b[0m\u001b[0;34m\u001b[0m\u001b[0;34m\u001b[0m\u001b[0m\n\u001b[1;32m   1319\u001b[0m \u001b[0;34m\u001b[0m\u001b[0m\n\u001b[0;32m-> 1320\u001b[0;31m         \u001b[0manswer\u001b[0m \u001b[0;34m=\u001b[0m \u001b[0mself\u001b[0m\u001b[0;34m.\u001b[0m\u001b[0mgateway_client\u001b[0m\u001b[0;34m.\u001b[0m\u001b[0msend_command\u001b[0m\u001b[0;34m(\u001b[0m\u001b[0mcommand\u001b[0m\u001b[0;34m)\u001b[0m\u001b[0;34m\u001b[0m\u001b[0;34m\u001b[0m\u001b[0m\n\u001b[0m\u001b[1;32m   1321\u001b[0m         return_value = get_return_value(\n\u001b[1;32m   1322\u001b[0m             answer, self.gateway_client, self.target_id, self.name)\n",
            "\u001b[0;32m/usr/local/lib/python3.8/dist-packages/py4j/java_gateway.py\u001b[0m in \u001b[0;36msend_command\u001b[0;34m(self, command, retry, binary)\u001b[0m\n\u001b[1;32m   1036\u001b[0m         \u001b[0mconnection\u001b[0m \u001b[0;34m=\u001b[0m \u001b[0mself\u001b[0m\u001b[0;34m.\u001b[0m\u001b[0m_get_connection\u001b[0m\u001b[0;34m(\u001b[0m\u001b[0;34m)\u001b[0m\u001b[0;34m\u001b[0m\u001b[0;34m\u001b[0m\u001b[0m\n\u001b[1;32m   1037\u001b[0m         \u001b[0;32mtry\u001b[0m\u001b[0;34m:\u001b[0m\u001b[0;34m\u001b[0m\u001b[0;34m\u001b[0m\u001b[0m\n\u001b[0;32m-> 1038\u001b[0;31m             \u001b[0mresponse\u001b[0m \u001b[0;34m=\u001b[0m \u001b[0mconnection\u001b[0m\u001b[0;34m.\u001b[0m\u001b[0msend_command\u001b[0m\u001b[0;34m(\u001b[0m\u001b[0mcommand\u001b[0m\u001b[0;34m)\u001b[0m\u001b[0;34m\u001b[0m\u001b[0;34m\u001b[0m\u001b[0m\n\u001b[0m\u001b[1;32m   1039\u001b[0m             \u001b[0;32mif\u001b[0m \u001b[0mbinary\u001b[0m\u001b[0;34m:\u001b[0m\u001b[0;34m\u001b[0m\u001b[0;34m\u001b[0m\u001b[0m\n\u001b[1;32m   1040\u001b[0m                 \u001b[0;32mreturn\u001b[0m \u001b[0mresponse\u001b[0m\u001b[0;34m,\u001b[0m \u001b[0mself\u001b[0m\u001b[0;34m.\u001b[0m\u001b[0m_create_connection_guard\u001b[0m\u001b[0;34m(\u001b[0m\u001b[0mconnection\u001b[0m\u001b[0;34m)\u001b[0m\u001b[0;34m\u001b[0m\u001b[0;34m\u001b[0m\u001b[0m\n",
            "\u001b[0;32m/usr/local/lib/python3.8/dist-packages/py4j/clientserver.py\u001b[0m in \u001b[0;36msend_command\u001b[0;34m(self, command)\u001b[0m\n\u001b[1;32m    509\u001b[0m         \u001b[0;32mtry\u001b[0m\u001b[0;34m:\u001b[0m\u001b[0;34m\u001b[0m\u001b[0;34m\u001b[0m\u001b[0m\n\u001b[1;32m    510\u001b[0m             \u001b[0;32mwhile\u001b[0m \u001b[0;32mTrue\u001b[0m\u001b[0;34m:\u001b[0m\u001b[0;34m\u001b[0m\u001b[0;34m\u001b[0m\u001b[0m\n\u001b[0;32m--> 511\u001b[0;31m                 \u001b[0manswer\u001b[0m \u001b[0;34m=\u001b[0m \u001b[0msmart_decode\u001b[0m\u001b[0;34m(\u001b[0m\u001b[0mself\u001b[0m\u001b[0;34m.\u001b[0m\u001b[0mstream\u001b[0m\u001b[0;34m.\u001b[0m\u001b[0mreadline\u001b[0m\u001b[0;34m(\u001b[0m\u001b[0;34m)\u001b[0m\u001b[0;34m[\u001b[0m\u001b[0;34m:\u001b[0m\u001b[0;34m-\u001b[0m\u001b[0;36m1\u001b[0m\u001b[0;34m]\u001b[0m\u001b[0;34m)\u001b[0m\u001b[0;34m\u001b[0m\u001b[0;34m\u001b[0m\u001b[0m\n\u001b[0m\u001b[1;32m    512\u001b[0m                 \u001b[0mlogger\u001b[0m\u001b[0;34m.\u001b[0m\u001b[0mdebug\u001b[0m\u001b[0;34m(\u001b[0m\u001b[0;34m\"Answer received: {0}\"\u001b[0m\u001b[0;34m.\u001b[0m\u001b[0mformat\u001b[0m\u001b[0;34m(\u001b[0m\u001b[0manswer\u001b[0m\u001b[0;34m)\u001b[0m\u001b[0;34m)\u001b[0m\u001b[0;34m\u001b[0m\u001b[0;34m\u001b[0m\u001b[0m\n\u001b[1;32m    513\u001b[0m                 \u001b[0;31m# Happens when a the other end is dead. There might be an empty\u001b[0m\u001b[0;34m\u001b[0m\u001b[0;34m\u001b[0m\u001b[0;34m\u001b[0m\u001b[0m\n",
            "\u001b[0;32m/usr/lib/python3.8/socket.py\u001b[0m in \u001b[0;36mreadinto\u001b[0;34m(self, b)\u001b[0m\n\u001b[1;32m    667\u001b[0m         \u001b[0;32mwhile\u001b[0m \u001b[0;32mTrue\u001b[0m\u001b[0;34m:\u001b[0m\u001b[0;34m\u001b[0m\u001b[0;34m\u001b[0m\u001b[0m\n\u001b[1;32m    668\u001b[0m             \u001b[0;32mtry\u001b[0m\u001b[0;34m:\u001b[0m\u001b[0;34m\u001b[0m\u001b[0;34m\u001b[0m\u001b[0m\n\u001b[0;32m--> 669\u001b[0;31m                 \u001b[0;32mreturn\u001b[0m \u001b[0mself\u001b[0m\u001b[0;34m.\u001b[0m\u001b[0m_sock\u001b[0m\u001b[0;34m.\u001b[0m\u001b[0mrecv_into\u001b[0m\u001b[0;34m(\u001b[0m\u001b[0mb\u001b[0m\u001b[0;34m)\u001b[0m\u001b[0;34m\u001b[0m\u001b[0;34m\u001b[0m\u001b[0m\n\u001b[0m\u001b[1;32m    670\u001b[0m             \u001b[0;32mexcept\u001b[0m \u001b[0mtimeout\u001b[0m\u001b[0;34m:\u001b[0m\u001b[0;34m\u001b[0m\u001b[0;34m\u001b[0m\u001b[0m\n\u001b[1;32m    671\u001b[0m                 \u001b[0mself\u001b[0m\u001b[0;34m.\u001b[0m\u001b[0m_timeout_occurred\u001b[0m \u001b[0;34m=\u001b[0m \u001b[0;32mTrue\u001b[0m\u001b[0;34m\u001b[0m\u001b[0;34m\u001b[0m\u001b[0m\n",
            "\u001b[0;31mKeyboardInterrupt\u001b[0m: "
          ]
        }
      ]
    }
  ]
}